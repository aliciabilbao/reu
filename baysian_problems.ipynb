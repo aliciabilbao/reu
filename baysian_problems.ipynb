{
 "cells": [
  {
   "cell_type": "code",
   "execution_count": 9,
   "id": "172e580b",
   "metadata": {},
   "outputs": [
    {
     "name": "stdout",
     "output_type": "stream",
     "text": [
      "the result should be |h1: 0.7407, h2: 0.2593|\n",
      "h1: 0.7407, h2: 0.2593\n",
      "the result should be |h1: 0.0000, h2: 1.0000|\n",
      "h1: 0.0000, h2: 1.0000\n"
     ]
    }
   ],
   "source": [
    "class MandM:\n",
    "    \n",
    "    def __init__(self,dist_1994,dist_1996):\n",
    "        self.d94 = dist_1994\n",
    "        self.d96 = dist_1996\n",
    "        self.prior = {'h1':0.5,'h2':0.5}\n",
    "        \n",
    "    def set_apriori(self):\n",
    "        self.prior = {'h1':0.5,'h2':0.5}\n",
    "        \n",
    "    def likelihood(self, color_bag1, color_bag2):\n",
    "        # returns the pair (P(D|H_1), P(D|H_2))\n",
    "        \n",
    "        likelihood_h1 = self.d94[color_bag1] * self.d96[color_bag2]  # what is the likelihood of the given colors under H_1\n",
    "        likelihood_h2 = self.d96[color_bag1] * self.d94[color_bag2]  # what is the likelihood of the given colors under H_2\n",
    "        return (likelihood_h1,likelihood_h2)\n",
    "    \n",
    "    def total_prob(self,likelihood):\n",
    "        # given the pair (P(D|H_1), P(D|H_2)), \n",
    "        # return P(D) under the current prior distribution (self.prior)\n",
    "        \n",
    "        p_d =  ( likelihood[0]*self.prior['h1'] ) + ( likelihood[1]*self.prior['h2'] )# what is P(D) given the likelihood vectore and the current prior\n",
    "        return p_d\n",
    "    \n",
    "    def posterior(self,likelihood):\n",
    "        # given the lieklihoods (P(D|H_1), P(D|H_2)),\n",
    "        # returns the posterior probability distribution (P(H_1),P(H_2)) (post hoc)\n",
    "        # under the current prior distribution (self.prior)\n",
    "        p_d = self.total_prob(likelihood)\n",
    "        post_h1 = ( likelihood[0]*self.prior['h1'] ) / (p_d) # what is the new probability of H_1, given the likelihood\n",
    "        post_h2 = ( likelihood[1]*self.prior['h2'] ) / (p_d)  # what is the new probability of H_1, given the likelihood\n",
    "        return (post_h1,post_h2)\n",
    "    \n",
    "    def experiment(self,color_bag1, color_bag2):\n",
    "        likelihood = self.likelihood(color_bag1, color_bag2)\n",
    "        posterior = self.posterior(likelihood)\n",
    "        self.prior = {'h1':posterior[0], 'h2':posterior[1]}\n",
    "        return self.decision()\n",
    "    \n",
    "    def decision(self):\n",
    "        # maximum likelihood decision criteria\n",
    "        \n",
    "        if self.prior['h1']>=self.prior['h2']:\n",
    "            return 'h1'\n",
    "        return 'h2'\n",
    "    \n",
    "    def __repr__(self):\n",
    "        return f'h1: {self.prior[\"h1\"]:.4f}, h2: {self.prior[\"h2\"]:.4f}'\n",
    "\n",
    "dist_1994 = {'brown':.3, 'yellow':.2, 'red':.2, 'green':.1, 'orange':.1, 'tan':.1, 'blue':0}\n",
    "dist_1996 = {'brown':.13, 'yellow':.14, 'red':.13, 'green':.2, 'orange':.16, 'tan':0, 'blue':.24}\n",
    "\n",
    "# test 1\n",
    "\n",
    "print(f'the result should be |h1: 0.7407, h2: 0.2593|')\n",
    "mandm = MandM(dist_1994,dist_1996)\n",
    "mandm.experiment('yellow','green')\n",
    "print(mandm)\n",
    "\n",
    "# test 2\n",
    "\n",
    "print(f'the result should be |h1: 0.0000, h2: 1.0000|')\n",
    "mandm.set_apriori()\n",
    "mandm.experiment('blue','yellow')\n",
    "print(mandm)"
   ]
  },
  {
   "cell_type": "code",
   "execution_count": null,
   "id": "a043e2b4",
   "metadata": {},
   "outputs": [],
   "source": []
  }
 ],
 "metadata": {
  "kernelspec": {
   "display_name": "Python 3 (ipykernel)",
   "language": "python",
   "name": "python3"
  },
  "language_info": {
   "codemirror_mode": {
    "name": "ipython",
    "version": 3
   },
   "file_extension": ".py",
   "mimetype": "text/x-python",
   "name": "python",
   "nbconvert_exporter": "python",
   "pygments_lexer": "ipython3",
   "version": "3.9.7"
  }
 },
 "nbformat": 4,
 "nbformat_minor": 5
}
