{
 "cells": [
  {
   "cell_type": "code",
   "execution_count": 1,
   "id": "c7a384aa",
   "metadata": {},
   "outputs": [
    {
     "name": "stdout",
     "output_type": "stream",
     "text": [
      "printing object of type <class 'list'>\n",
      "one\n",
      "two\n",
      "three\n"
     ]
    }
   ],
   "source": [
    "def print_them_all(the_list):\n",
    "    \"\"\"\n",
    "    assumes the_list is a list\n",
    "    topics -\n",
    "        iterables\n",
    "        list data type\n",
    "        a string is an iterable (see next box)\n",
    "    \"\"\"\n",
    "    print(f'printing object of type {type(the_list)}')\n",
    "    for element in the_list:\n",
    "        print(element)\n",
    "\n",
    "l = ['one','two','three']\n",
    "print_them_all(l)"
   ]
  },
  {
   "cell_type": "code",
   "execution_count": 2,
   "id": "d0b99535",
   "metadata": {},
   "outputs": [
    {
     "name": "stdout",
     "output_type": "stream",
     "text": [
      "printing object of type <class 'str'>\n",
      "h\n",
      "e\n",
      "l\n",
      "l\n",
      "o\n",
      "\n",
      "printing object of type <class 'list'>\n",
      "<class 'int'>\n",
      "<class 'int'>\n",
      "<class 'int'>\n"
     ]
    }
   ],
   "source": [
    "def interlude_on_interables_and_lists():\n",
    "    \"\"\"\n",
    "    topics -\n",
    "        iterables include lists and strings\n",
    "        list comprehension construction\n",
    "        range is a sort of list (discussio needed)\n",
    "    \"\"\"\n",
    "    l = 'hello'\n",
    "    print_them_all(l)\n",
    "    print()\n",
    "    l = [type(i) for i in range(3)]\n",
    "    print_them_all(l)\n",
    "\n",
    "interlude_on_interables_and_lists() "
   ]
  },
  {
   "cell_type": "code",
   "execution_count": 30,
   "id": "7a21d34f",
   "metadata": {},
   "outputs": [
    {
     "name": "stdout",
     "output_type": "stream",
     "text": [
      "printing object of type <class 'list'>\n",
      "10\n",
      "9\n",
      "8\n",
      "7\n",
      "6\n",
      "5\n",
      "4\n",
      "3\n",
      "2\n",
      "1\n",
      "BOOM!\n"
     ]
    }
   ],
   "source": [
    "def print_them_all(the_list):\n",
    "    \"\"\"\n",
    "    assumes the_list is a list\n",
    "    topics -\n",
    "        iterables\n",
    "        list data type\n",
    "        a string is an iterable (see next box)\n",
    "    \"\"\"\n",
    "    print(f'printing object of type {type(the_list)}')\n",
    "    for element in the_list:\n",
    "        print(element)\n",
    "        \n",
    "def the_new_boom(n):\n",
    "    \n",
    "    def make_a_list(n):\n",
    "        \n",
    "        list = [n-x for x in range(n)]\n",
    "        return list\n",
    "    \n",
    "    the_list = make_a_list(n)\n",
    "    print_them_all(the_list)\n",
    "    print(\"BOOM!\")\n",
    "    \n",
    "the_new_boom(10)"
   ]
  },
  {
   "cell_type": "code",
   "execution_count": 34,
   "id": "e856ff34",
   "metadata": {},
   "outputs": [
    {
     "data": {
      "text/plain": [
       "[0, 1, 4, 9, 16]"
      ]
     },
     "execution_count": 34,
     "metadata": {},
     "output_type": "execute_result"
    }
   ],
   "source": [
    "[x*x for x in range(5)]"
   ]
  },
  {
   "cell_type": "code",
   "execution_count": 35,
   "id": "0e98dd5f",
   "metadata": {},
   "outputs": [
    {
     "name": "stdout",
     "output_type": "stream",
     "text": [
      "0\n",
      "1\n",
      "4\n",
      "9\n",
      "16\n"
     ]
    }
   ],
   "source": [
    "for i in[x*x for x in range(5)]:\n",
    "    print(f'{i}')"
   ]
  },
  {
   "cell_type": "code",
   "execution_count": null,
   "id": "6b3c8ca1",
   "metadata": {},
   "outputs": [],
   "source": []
  }
 ],
 "metadata": {
  "kernelspec": {
   "display_name": "Python 3 (ipykernel)",
   "language": "python",
   "name": "python3"
  },
  "language_info": {
   "codemirror_mode": {
    "name": "ipython",
    "version": 3
   },
   "file_extension": ".py",
   "mimetype": "text/x-python",
   "name": "python",
   "nbconvert_exporter": "python",
   "pygments_lexer": "ipython3",
   "version": "3.9.7"
  }
 },
 "nbformat": 4,
 "nbformat_minor": 5
}
