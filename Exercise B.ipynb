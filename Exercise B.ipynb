{
 "cells": [
  {
   "cell_type": "code",
   "execution_count": 1,
   "id": "c7a384aa",
   "metadata": {},
   "outputs": [
    {
     "name": "stdout",
     "output_type": "stream",
     "text": [
      "printing object of type <class 'list'>\n",
      "one\n",
      "two\n",
      "three\n"
     ]
    }
   ],
   "source": [
    "def print_them_all(the_list):\n",
    "    \"\"\"\n",
    "    assumes the_list is a list\n",
    "    topics -\n",
    "        iterables\n",
    "        list data type\n",
    "        a string is an iterable (see next box)\n",
    "    \"\"\"\n",
    "    print(f'printing object of type {type(the_list)}')\n",
    "    for element in the_list:\n",
    "        print(element)\n",
    "\n",
    "l = ['one','two','three']\n",
    "print_them_all(l)"
   ]
  },
  {
   "cell_type": "code",
   "execution_count": 2,
   "id": "d0b99535",
   "metadata": {},
   "outputs": [
    {
     "name": "stdout",
     "output_type": "stream",
     "text": [
      "printing object of type <class 'str'>\n",
      "h\n",
      "e\n",
      "l\n",
      "l\n",
      "o\n",
      "\n",
      "printing object of type <class 'list'>\n",
      "<class 'int'>\n",
      "<class 'int'>\n",
      "<class 'int'>\n"
     ]
    }
   ],
   "source": [
    "def interlude_on_interables_and_lists():\n",
    "    \"\"\"\n",
    "    topics -\n",
    "        iterables include lists and strings\n",
    "        list comprehension construction\n",
    "        range is a sort of list (discussio needed)\n",
    "    \"\"\"\n",
    "    l = 'hello'\n",
    "    print_them_all(l)\n",
    "    print()\n",
    "    l = [type(i) for i in range(3)]\n",
    "    print_them_all(l)\n",
    "\n",
    "interlude_on_interables_and_lists() "
   ]
  },
  {
   "cell_type": "code",
   "execution_count": 22,
   "id": "7a21d34f",
   "metadata": {},
   "outputs": [
    {
     "name": "stdout",
     "output_type": "stream",
     "text": [
      "printing object of type <class 'list'>\n",
      "10\n",
      "9\n",
      "8\n",
      "7\n",
      "6\n",
      "5\n",
      "4\n",
      "3\n",
      "2\n",
      "1\n",
      "BOOM!\n"
     ]
    }
   ],
   "source": [
    "def print_them_all(the_list):\n",
    "    \"\"\"\n",
    "    assumes the_list is a list\n",
    "    topics -\n",
    "        iterables\n",
    "        list data type\n",
    "        a string is an iterable (see next box)\n",
    "    \"\"\"\n",
    "    print(f'printing object of type {type(the_list)}')\n",
    "    for element in the_list:\n",
    "        print(element)\n",
    "        \n",
    "def the_new_boom(n):\n",
    "    \n",
    "    def make_a_list(n):\n",
    "        \n",
    "        list = [10-x for x in range(10)]\n",
    "        return list\n",
    "    \n",
    "    the_list = make_a_list(n)\n",
    "    print_them_all(the_list)\n",
    "    print(\"BOOM!\")\n",
    "    \n",
    "the_new_boom(10)"
   ]
  },
  {
   "cell_type": "code",
   "execution_count": null,
   "id": "e856ff34",
   "metadata": {},
   "outputs": [],
   "source": []
  }
 ],
 "metadata": {
  "kernelspec": {
   "display_name": "Python 3 (ipykernel)",
   "language": "python",
   "name": "python3"
  },
  "language_info": {
   "codemirror_mode": {
    "name": "ipython",
    "version": 3
   },
   "file_extension": ".py",
   "mimetype": "text/x-python",
   "name": "python",
   "nbconvert_exporter": "python",
   "pygments_lexer": "ipython3",
   "version": "3.9.7"
  }
 },
 "nbformat": 4,
 "nbformat_minor": 5
}
