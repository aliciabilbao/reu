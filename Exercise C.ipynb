{
 "cells": [
  {
   "cell_type": "code",
   "execution_count": 1,
   "id": "4b172b05",
   "metadata": {},
   "outputs": [
    {
     "name": "stdout",
     "output_type": "stream",
     "text": [
      "line 5: locals(): {'n': 10}\n",
      "line 16: locals(): {'n': 10, 'g': <function f.<locals>.g at 0x7fdd1f058700>, 'j': 3}\n",
      "line 9: locals(): {'n': 7, 'i': 2}\n",
      "line 12: locals(): {'n': 7, 'i': 7, 'j': 4}\n",
      "line 18: locals(): {'n': 10, 'g': <function f.<locals>.g at 0x7fdd1f058700>, 'j': 3}\n"
     ]
    },
    {
     "data": {
      "text/plain": [
       "True"
      ]
     },
     "execution_count": 1,
     "metadata": {},
     "output_type": "execute_result"
    }
   ],
   "source": [
    "def f(n):\n",
    "    \n",
    "    print(f'line 5: locals(): {locals()}')\n",
    "    \n",
    "    def g(n):\n",
    "        i = 2\n",
    "        print(f'line 9: locals(): {locals()}')\n",
    "        i = locals()[\"n\"]  # same as i = n\n",
    "        j = 4\n",
    "        print(f'line 12: locals(): {locals()}')\n",
    "        return True\n",
    "    \n",
    "    j = 3\n",
    "    print(f'line 16: locals(): {locals()}')\n",
    "    g(7)\n",
    "    print(f'line 18: locals(): {locals()}')\n",
    "    return True\n",
    "\n",
    "f(10)"
   ]
  },
  {
   "cell_type": "code",
   "execution_count": 2,
   "id": "40745700",
   "metadata": {},
   "outputs": [
    {
     "name": "stdout",
     "output_type": "stream",
     "text": [
      "0 1 2 3 4 5 6 7 8 9 "
     ]
    }
   ],
   "source": [
    "for i in range(10): print(i,end=' ')"
   ]
  },
  {
   "cell_type": "code",
   "execution_count": 3,
   "id": "20b8c252",
   "metadata": {},
   "outputs": [
    {
     "name": "stdout",
     "output_type": "stream",
     "text": [
      "l = [0, 1, 2, 3, 4, 5, 6, 7, 8, 9]\n",
      "l = [10, 9, 8, 7, 6, 5, 4, 3, 2, 1]\n"
     ]
    }
   ],
   "source": [
    "l = [i for i in range(10)]\n",
    "print(f'l = {l}')\n",
    "l = [10-i for i in range(10)]\n",
    "print(f'l = {l}')"
   ]
  },
  {
   "cell_type": "code",
   "execution_count": 4,
   "id": "55d482dd",
   "metadata": {},
   "outputs": [
    {
     "name": "stdout",
     "output_type": "stream",
     "text": [
      "\tlocal: {'the_list': [10, 9, 8, 7, 6, 5, 4, 3, 2, 1]}\n",
      "10\n",
      "\tlocal: {'the_list': [9, 8, 7, 6, 5, 4, 3, 2, 1]}\n",
      "9\n",
      "\tlocal: {'the_list': [8, 7, 6, 5, 4, 3, 2, 1]}\n",
      "8\n",
      "\tlocal: {'the_list': [7, 6, 5, 4, 3, 2, 1]}\n",
      "7\n",
      "\tlocal: {'the_list': [6, 5, 4, 3, 2, 1]}\n",
      "6\n",
      "\tlocal: {'the_list': [5, 4, 3, 2, 1]}\n",
      "5\n",
      "\tlocal: {'the_list': [4, 3, 2, 1]}\n",
      "4\n",
      "\tlocal: {'the_list': [3, 2, 1]}\n",
      "3\n",
      "\tlocal: {'the_list': [2, 1]}\n",
      "2\n",
      "\tlocal: {'the_list': [1]}\n",
      "1\n",
      "\tlocal: {'the_list': []}\n",
      "BOOM!\n"
     ]
    }
   ],
   "source": [
    "# topics\n",
    "#    recursion\n",
    "#    the len function (basis case of recursion)\n",
    "#    list slicing\n",
    "#    deep and shallow copies\n",
    "#  \n",
    "\n",
    "def boom_recursive(the_list):\n",
    "    print(f'\\tlocal: {locals()}')\n",
    "    if len(the_list)>0:           # while there was somethign to do\n",
    "        print(the_list[0])           # do it to the first one\n",
    "        boom_recursive(the_list[1:])  # and then recurse on the rest\n",
    "    else:\n",
    "        print('BOOM!')\n",
    "    \n",
    "boom_recursive([i for i in range(10,0,-1)])"
   ]
  },
  {
   "cell_type": "code",
   "execution_count": 5,
   "id": "d4cfc245",
   "metadata": {},
   "outputs": [
    {
     "name": "stdout",
     "output_type": "stream",
     "text": [
      "fix my broken code\n"
     ]
    }
   ],
   "source": [
    "#\n",
    "#  some notes:\n",
    "#     a // b is integer divide https://docs.python.org/3/library/stdtypes.html\n",
    "#     what is gcd(0,a) ?  ( it is a )\n",
    "#     what is gcd(b,a)  ? ( it is gcd(b-a,a) )\n",
    "#\n",
    "\n",
    "def gcd(a,b):\n",
    "    \"\"\"\n",
    "    given integers a, b, returns the gcd of a and b.\n",
    "    \n",
    "    if any of a, b < 0, then take -a or -b, as needed\n",
    "    \"\"\"\n",
    "    \n",
    "    # plan: suppose a>b, gcd(a,b) == gcd(a-kb,b) for any k\n",
    "    # but think of a k large enough to make a smaller than b, but not negative.\n",
    "    # (if it turns out you can make a-kb==0, well then what?)\n",
    "    \n",
    "    # and you can recurse then on the two numbers\n",
    "    \n",
    "    return 0\n",
    "\n",
    "\n",
    "test = [(1,1,1),(3,5,1),(2,4,2),(15,5,5),(21,15,3)]\n",
    "\n",
    "def test_gcd(test):\n",
    "    correct = 0\n",
    "    for t in test:\n",
    "        if gcd(t[0],t[1])==t[2]:\n",
    "            correct += 1\n",
    "    return correct==len(test)\n",
    "\n",
    "if test_gcd(test):\n",
    "    print('correct!')\n",
    "else:\n",
    "    print('fix my broken code')"
   ]
  },
  {
   "cell_type": "code",
   "execution_count": 9,
   "id": "a0554579",
   "metadata": {},
   "outputs": [
    {
     "name": "stdout",
     "output_type": "stream",
     "text": [
      "correct!\n"
     ]
    }
   ],
   "source": [
    "# fix my broken code\n",
    "\n",
    "# a note about Python text. \"\" and '' are identical in function. Unlike some languages,\n",
    "# Python does not have a character datatype. For people used to, be careful because 'a' is\n",
    "# character sequence that happens to be one character long\n",
    "\n",
    "# The triple quote \"\"\" \"\"\" is used in docstrings; if a triple quoted string is the first statement\n",
    "# of a function, it is collected up for the automated documentation of that function\n",
    "\n",
    "\n",
    "def count_the_vowels(s):\n",
    "    \"\"\"\n",
    "    Given a string s, return the count of vowels in s\n",
    "    \"\"\"\n",
    "    \n",
    "    # hint: iterate through s\n",
    "    # count +1 using a statement like 'if x in a', where a teaches the program\n",
    "    # what a vowel is\n",
    "    vowels = \"AEIOUaeiou\"\n",
    "    counter=0 \n",
    "    \n",
    "    for char in s:\n",
    "        if char in vowels:\n",
    "            counter +=1\n",
    "    \n",
    "    pass\n",
    "\n",
    "    return counter\n",
    "\n",
    "text = \"The world will little note, nor long remember what we say here, but it can never forget what they did here.\"\n",
    "\n",
    "def test_count_the_vowels():\n",
    "    if count_the_vowels(text)==29:\n",
    "        print(\"correct!\")\n",
    "    else:\n",
    "        print(\"broken!\")\n",
    "\n",
    "test_count_the_vowels()"
   ]
  },
  {
   "cell_type": "code",
   "execution_count": 10,
   "id": "2f283041",
   "metadata": {},
   "outputs": [
    {
     "name": "stdout",
     "output_type": "stream",
     "text": [
      "correct!\n"
     ]
    }
   ],
   "source": [
    "# fix my broken code\n",
    "\n",
    "# this also introduces the append method of a list, comparison of lists,\n",
    "# \"square bracket\" indexing of a list, and the sort method for a list\n",
    "\n",
    "\n",
    "\n",
    "def list_uniq(l_in):\n",
    "    \"\"\"\n",
    "    given a list return a list of the unique values.\n",
    "    do this (perhaps) using sorting (why?)\n",
    "    \"\"\"\n",
    "    \n",
    "    ## hint, \"sort\" is a method of an array that sorts in place! \n",
    "    ##    make sure you understand --> in place <--\n",
    "    # then go thorough starting from an empty list (  [] ) using\n",
    "    # append to add an element the __first__ (and only the first) time\n",
    "    # you encounter it (enumerate the sorted list)\n",
    "    \n",
    "    # Q: why did we sort the list? is it necessary? \n",
    "    \n",
    "    # https://docs.python.org/3/library/functions.html#sorted  (builtin)\n",
    "    # https://docs.python.org/3/howto/sorting.html (list method)\n",
    "    \n",
    "    l_in.sort()\n",
    "    \n",
    "    unique_list = []\n",
    "    \n",
    "    for x in l_in:\n",
    "        if x not in unique_list:\n",
    "            unique_list.append(x)\n",
    "    \n",
    "    \n",
    "    pass \n",
    " \n",
    "    return unique_list  \n",
    "\n",
    "def test_list_uniq():\n",
    "    l_in = [3,2,6,4,1,5,4,4,1,3,5,6,9]\n",
    "    ans = [1, 2, 3, 4, 5, 6, 9]\n",
    "    if ans == list_uniq(l_in):\n",
    "        print(\"correct!\")\n",
    "    else:\n",
    "        print(\"broken!\")\n",
    "\n",
    "test_list_uniq()"
   ]
  },
  {
   "cell_type": "code",
   "execution_count": null,
   "id": "097c2712",
   "metadata": {},
   "outputs": [],
   "source": []
  }
 ],
 "metadata": {
  "kernelspec": {
   "display_name": "Python 3 (ipykernel)",
   "language": "python",
   "name": "python3"
  },
  "language_info": {
   "codemirror_mode": {
    "name": "ipython",
    "version": 3
   },
   "file_extension": ".py",
   "mimetype": "text/x-python",
   "name": "python",
   "nbconvert_exporter": "python",
   "pygments_lexer": "ipython3",
   "version": "3.9.7"
  }
 },
 "nbformat": 4,
 "nbformat_minor": 5
}
